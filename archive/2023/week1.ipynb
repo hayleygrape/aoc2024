{
 "cells": [
  {
   "cell_type": "code",
   "execution_count": 1,
   "metadata": {},
   "outputs": [],
   "source": [
    "import pandas as pd\n",
    "import numpy as np\n",
    "import re"
   ]
  },
  {
   "cell_type": "markdown",
   "metadata": {},
   "source": [
    "### DAY 3"
   ]
  },
  {
   "cell_type": "code",
   "execution_count": 245,
   "metadata": {},
   "outputs": [],
   "source": [
    "f = open(\"inputs/day3.txt\").read().split(\"\\n\")\n",
    "# pad\n",
    "f = [\".\"*len(f)] + f + [\".\"*len(f)]\n",
    "f = [\".\" + x + \".\" for x in f]"
   ]
  },
  {
   "cell_type": "code",
   "execution_count": 246,
   "metadata": {},
   "outputs": [],
   "source": [
    "def get_neighbors(row, col_start, col_end):\n",
    "    top_row = [(row-1, col) for col in range(col_start-1, col_end+1)]\n",
    "    bottom_row = [(row+1, col) for col in range(col_start-1, col_end+1)]\n",
    "    middle = [(row, col) for col in range(col_start-1, col_end+1)]\n",
    "    return top_row + bottom_row + middle"
   ]
  },
  {
   "cell_type": "code",
   "execution_count": 247,
   "metadata": {},
   "outputs": [],
   "source": [
    "gear_locs = {}\n",
    "for row in range(len(f)):\n",
    "    for match in re.finditer(r'\\*', f[row]):\n",
    "        gear_locs[(row, match.span()[0])] = []"
   ]
  },
  {
   "cell_type": "code",
   "execution_count": 248,
   "metadata": {},
   "outputs": [],
   "source": [
    "for i in range(len(f)):\n",
    "    for match in re.finditer(r'\\d+', f[i]):\n",
    "        neighbors = get_neighbors(i, match.span()[0], match.span()[1])\n",
    "        for x,y in neighbors:\n",
    "            if (x,y) in gear_locs:\n",
    "                gear_locs[(x,y)].append(match.group())"
   ]
  },
  {
   "cell_type": "code",
   "execution_count": 250,
   "metadata": {},
   "outputs": [],
   "source": [
    "tot = 0\n",
    "for k,v in gear_locs.items():\n",
    "    if len(v) == 2:\n",
    "        tot += int(v[0])*int(v[1])"
   ]
  },
  {
   "cell_type": "code",
   "execution_count": 251,
   "metadata": {},
   "outputs": [
    {
     "data": {
      "text/plain": [
       "79844424"
      ]
     },
     "execution_count": 251,
     "metadata": {},
     "output_type": "execute_result"
    }
   ],
   "source": [
    "tot"
   ]
  },
  {
   "cell_type": "markdown",
   "metadata": {},
   "source": [
    "### DAY 5"
   ]
  },
  {
   "cell_type": "code",
   "execution_count": 68,
   "metadata": {},
   "outputs": [],
   "source": [
    "f = open(\"inputs/day5_test.txt\").read().split(\"\\n\\n\")\n",
    "seeds, f = f[0], f[1:]\n",
    "seeds = [int(x) for x in seeds.lstrip(\"seeds: \").split()]\n",
    "maps = dict([x.split(\":\\n\") for x in f])\n",
    "for k,v in maps.items():\n",
    "    maps[k] = [x.split() for x in maps[k].split(\"\\n\")]"
   ]
  },
  {
   "cell_type": "code",
   "execution_count": null,
   "metadata": {},
   "outputs": [],
   "source": [
    "end_locs = []\n",
    "for num in seeds:\n",
    "    curr_num = num\n",
    "    for map_type in order:\n",
    "        # filter \n",
    "        filtered = list(filter(lambda x: int(x[1]) <= curr_num, maps[map_type]))\n",
    "        if len(filtered) != 0:\n",
    "            d,s,rlen = sorted(filtered, key=lambda x: int(x[1]), reverse=True)[0]\n",
    "            d,s,rlen = int(d),int(s),int(rlen)\n",
    "            if curr_num not in range(s,s+rlen):\n",
    "                continue\n",
    "            curr_num = d+(curr_num-s)\n",
    "    end_locs.append(curr_num)"
   ]
  },
  {
   "cell_type": "code",
   "execution_count": 67,
   "metadata": {},
   "outputs": [
    {
     "data": {
      "text/plain": [
       "251346198"
      ]
     },
     "execution_count": 67,
     "metadata": {},
     "output_type": "execute_result"
    }
   ],
   "source": [
    "sorted(end_locs)[0]"
   ]
  },
  {
   "cell_type": "code",
   "execution_count": 3,
   "metadata": {},
   "outputs": [],
   "source": [
    "f = open(\"inputs/day5.txt\").read().split(\"\\n\\n\")\n",
    "seeds, f = f[0], f[1:]\n",
    "seeds = [int(x) for x in seeds.lstrip(\"seeds: \").split()]\n",
    "maps = dict([x.split(\":\\n\") for x in f])\n",
    "for k,v in maps.items():\n",
    "    maps[k] = [x.split() for x in maps[k].split(\"\\n\")]"
   ]
  },
  {
   "cell_type": "code",
   "execution_count": 10,
   "metadata": {},
   "outputs": [],
   "source": [
    "order = maps.keys()"
   ]
  },
  {
   "cell_type": "code",
   "execution_count": 11,
   "metadata": {},
   "outputs": [
    {
     "ename": "KeyboardInterrupt",
     "evalue": "",
     "output_type": "error",
     "traceback": [
      "\u001b[0;31m---------------------------------------------------------------------------\u001b[0m",
      "\u001b[0;31mKeyboardInterrupt\u001b[0m                         Traceback (most recent call last)",
      "Cell \u001b[0;32mIn[11], line 7\u001b[0m\n\u001b[1;32m      4\u001b[0m curr_num \u001b[38;5;241m=\u001b[39m num\n\u001b[1;32m      5\u001b[0m \u001b[38;5;28;01mfor\u001b[39;00m map_type \u001b[38;5;129;01min\u001b[39;00m order:\n\u001b[1;32m      6\u001b[0m     \u001b[38;5;66;03m# filter \u001b[39;00m\n\u001b[0;32m----> 7\u001b[0m     filtered \u001b[38;5;241m=\u001b[39m \u001b[38;5;28;43mlist\u001b[39;49m\u001b[43m(\u001b[49m\u001b[38;5;28;43mfilter\u001b[39;49m\u001b[43m(\u001b[49m\u001b[38;5;28;43;01mlambda\u001b[39;49;00m\u001b[43m \u001b[49m\u001b[43mx\u001b[49m\u001b[43m:\u001b[49m\u001b[43m \u001b[49m\u001b[38;5;28;43mint\u001b[39;49m\u001b[43m(\u001b[49m\u001b[43mx\u001b[49m\u001b[43m[\u001b[49m\u001b[38;5;241;43m1\u001b[39;49m\u001b[43m]\u001b[49m\u001b[43m)\u001b[49m\u001b[43m \u001b[49m\u001b[38;5;241;43m<\u001b[39;49m\u001b[38;5;241;43m=\u001b[39;49m\u001b[43m \u001b[49m\u001b[43mcurr_num\u001b[49m\u001b[43m,\u001b[49m\u001b[43m \u001b[49m\u001b[43mmaps\u001b[49m\u001b[43m[\u001b[49m\u001b[43mmap_type\u001b[49m\u001b[43m]\u001b[49m\u001b[43m)\u001b[49m\u001b[43m)\u001b[49m\n\u001b[1;32m      8\u001b[0m     \u001b[38;5;28;01mif\u001b[39;00m \u001b[38;5;28mlen\u001b[39m(filtered) \u001b[38;5;241m!=\u001b[39m \u001b[38;5;241m0\u001b[39m:\n\u001b[1;32m      9\u001b[0m         d,s,rlen \u001b[38;5;241m=\u001b[39m \u001b[38;5;28msorted\u001b[39m(filtered, key\u001b[38;5;241m=\u001b[39m\u001b[38;5;28;01mlambda\u001b[39;00m x: \u001b[38;5;28mint\u001b[39m(x[\u001b[38;5;241m1\u001b[39m]), reverse\u001b[38;5;241m=\u001b[39m\u001b[38;5;28;01mTrue\u001b[39;00m)[\u001b[38;5;241m0\u001b[39m]\n",
      "Cell \u001b[0;32mIn[11], line 7\u001b[0m, in \u001b[0;36m<lambda>\u001b[0;34m(x)\u001b[0m\n\u001b[1;32m      4\u001b[0m curr_num \u001b[38;5;241m=\u001b[39m num\n\u001b[1;32m      5\u001b[0m \u001b[38;5;28;01mfor\u001b[39;00m map_type \u001b[38;5;129;01min\u001b[39;00m order:\n\u001b[1;32m      6\u001b[0m     \u001b[38;5;66;03m# filter \u001b[39;00m\n\u001b[0;32m----> 7\u001b[0m     filtered \u001b[38;5;241m=\u001b[39m \u001b[38;5;28mlist\u001b[39m(\u001b[38;5;28mfilter\u001b[39m(\u001b[38;5;28;01mlambda\u001b[39;00m x: \u001b[38;5;28;43mint\u001b[39;49m\u001b[43m(\u001b[49m\u001b[43mx\u001b[49m\u001b[43m[\u001b[49m\u001b[38;5;241;43m1\u001b[39;49m\u001b[43m]\u001b[49m\u001b[43m)\u001b[49m \u001b[38;5;241m<\u001b[39m\u001b[38;5;241m=\u001b[39m curr_num, maps[map_type]))\n\u001b[1;32m      8\u001b[0m     \u001b[38;5;28;01mif\u001b[39;00m \u001b[38;5;28mlen\u001b[39m(filtered) \u001b[38;5;241m!=\u001b[39m \u001b[38;5;241m0\u001b[39m:\n\u001b[1;32m      9\u001b[0m         d,s,rlen \u001b[38;5;241m=\u001b[39m \u001b[38;5;28msorted\u001b[39m(filtered, key\u001b[38;5;241m=\u001b[39m\u001b[38;5;28;01mlambda\u001b[39;00m x: \u001b[38;5;28mint\u001b[39m(x[\u001b[38;5;241m1\u001b[39m]), reverse\u001b[38;5;241m=\u001b[39m\u001b[38;5;28;01mTrue\u001b[39;00m)[\u001b[38;5;241m0\u001b[39m]\n",
      "\u001b[0;31mKeyboardInterrupt\u001b[0m: "
     ]
    }
   ],
   "source": [
    "end_locs = []\n",
    "for i in range(0,len(seeds),2):\n",
    "    for num in range(seeds[i], seeds[i]+seeds[i+1]):\n",
    "        curr_num = num\n",
    "        for map_type in order:\n",
    "            # filter \n",
    "            filtered = list(filter(lambda x: int(x[1]) <= curr_num, maps[map_type]))\n",
    "            if len(filtered) != 0:\n",
    "                d,s,rlen = sorted(filtered, key=lambda x: int(x[1]), reverse=True)[0]\n",
    "                d,s,rlen = int(d),int(s),int(rlen)\n",
    "                if curr_num not in range(s,s+rlen):\n",
    "                    continue\n",
    "                curr_num = d+(curr_num-s)\n",
    "        end_locs.append(curr_num)"
   ]
  },
  {
   "cell_type": "markdown",
   "metadata": {},
   "source": [
    "### DAY 6"
   ]
  },
  {
   "cell_type": "code",
   "execution_count": 30,
   "metadata": {},
   "outputs": [],
   "source": [
    "import math"
   ]
  },
  {
   "cell_type": "code",
   "execution_count": 52,
   "metadata": {},
   "outputs": [],
   "source": [
    "f = open(\"inputs/day6.txt\").read().split(\"\\n\")\n",
    "time, distance = [x.split(\":\")[1].split() for x in f]\n",
    "time, distance = int(\"\".join(time)), int(\"\".join(distance))\n",
    "# time, distance = [st(x) for x in time], [int(x) for x in distance]"
   ]
  },
  {
   "cell_type": "code",
   "execution_count": 53,
   "metadata": {},
   "outputs": [],
   "source": [
    "def calc_distance(total_time, button_time):\n",
    "    return (total_time - button_time)*button_time"
   ]
  },
  {
   "cell_type": "code",
   "execution_count": 54,
   "metadata": {},
   "outputs": [],
   "source": [
    "p = 0\n",
    "for i in range(1, time):\n",
    "    if calc_distance(time, i) > distance:\n",
    "        p += 1"
   ]
  },
  {
   "cell_type": "code",
   "execution_count": 55,
   "metadata": {},
   "outputs": [
    {
     "data": {
      "text/plain": [
       "30565288"
      ]
     },
     "execution_count": 55,
     "metadata": {},
     "output_type": "execute_result"
    }
   ],
   "source": [
    "p"
   ]
  },
  {
   "cell_type": "code",
   "execution_count": 44,
   "metadata": {},
   "outputs": [
    {
     "ename": "TypeError",
     "evalue": "object of type 'int' has no len()",
     "output_type": "error",
     "traceback": [
      "\u001b[0;31m---------------------------------------------------------------------------\u001b[0m",
      "\u001b[0;31mTypeError\u001b[0m                                 Traceback (most recent call last)",
      "Cell \u001b[0;32mIn[44], line 1\u001b[0m\n\u001b[0;32m----> 1\u001b[0m possibilities \u001b[38;5;241m=\u001b[39m [\u001b[38;5;241m0\u001b[39m]\u001b[38;5;241m*\u001b[39m\u001b[38;5;28;43mlen\u001b[39;49m\u001b[43m(\u001b[49m\u001b[43mtime\u001b[49m\u001b[43m)\u001b[49m\n\u001b[1;32m      2\u001b[0m \u001b[38;5;28;01mfor\u001b[39;00m i \u001b[38;5;129;01min\u001b[39;00m \u001b[38;5;28mrange\u001b[39m(\u001b[38;5;28mlen\u001b[39m(time)):\n\u001b[1;32m      3\u001b[0m     \u001b[38;5;28;01mfor\u001b[39;00m j \u001b[38;5;129;01min\u001b[39;00m \u001b[38;5;28mrange\u001b[39m(\u001b[38;5;241m1\u001b[39m, time[i]):\n",
      "\u001b[0;31mTypeError\u001b[0m: object of type 'int' has no len()"
     ]
    }
   ],
   "source": [
    "possibilities = [0]*len(time)\n",
    "for i in range(len(time)):\n",
    "    for j in range(1, time[i]):\n",
    "        if calc_distance(time[i], j) > distance[i]:\n",
    "            possibilities[i] += 1"
   ]
  },
  {
   "cell_type": "code",
   "execution_count": 35,
   "metadata": {},
   "outputs": [
    {
     "data": {
      "text/plain": [
       "1413720"
      ]
     },
     "execution_count": 35,
     "metadata": {},
     "output_type": "execute_result"
    }
   ],
   "source": [
    "math.prod(possibilities)"
   ]
  }
 ],
 "metadata": {
  "kernelspec": {
   "display_name": "Python 3",
   "language": "python",
   "name": "python3"
  },
  "language_info": {
   "codemirror_mode": {
    "name": "ipython",
    "version": 3
   },
   "file_extension": ".py",
   "mimetype": "text/x-python",
   "name": "python",
   "nbconvert_exporter": "python",
   "pygments_lexer": "ipython3",
   "version": "3.12.7"
  }
 },
 "nbformat": 4,
 "nbformat_minor": 2
}
