{
 "cells": [
  {
   "cell_type": "code",
   "execution_count": 5,
   "metadata": {},
   "outputs": [],
   "source": [
    "import pandas as pd\n",
    "import numpy as np\n",
    "import re\n",
    "from collections import Counter"
   ]
  },
  {
   "cell_type": "markdown",
   "metadata": {},
   "source": [
    "### Day 1"
   ]
  },
  {
   "cell_type": "code",
   "execution_count": null,
   "metadata": {},
   "outputs": [],
   "source": [
    "f = open(\"inputs/day1.txt\").read()\n",
    "count = Counter(f)\n",
    "count['('] - count[')']"
   ]
  },
  {
   "cell_type": "code",
   "execution_count": 19,
   "metadata": {},
   "outputs": [
    {
     "name": "stdout",
     "output_type": "stream",
     "text": [
      "1783\n",
      "1785\n",
      "1797\n",
      "6047\n"
     ]
    }
   ],
   "source": [
    "count = 0\n",
    "f = open(\"inputs/day1.txt\").read()\n",
    "for i, floor in enumerate(f):\n",
    "    if floor == \"(\":\n",
    "        count += 1\n",
    "    if floor == \")\":\n",
    "        count -= 1\n",
    "    #  print(count)\n",
    "    if count == -1:\n",
    "        print(i+1)"
   ]
  },
  {
   "cell_type": "markdown",
   "metadata": {},
   "source": [
    "### DAY 2"
   ]
  },
  {
   "cell_type": "code",
   "execution_count": 26,
   "metadata": {},
   "outputs": [],
   "source": [
    "f = open(\"inputs/day2.txt\").read().split(\"\\n\")\n",
    "dim = [x.split(\"x\") for x in f]"
   ]
  },
  {
   "cell_type": "code",
   "execution_count": 29,
   "metadata": {},
   "outputs": [],
   "source": [
    "tot = 0\n",
    "for l,w,h in dim:\n",
    "    l, w, h = int(l), int(w), int(h)\n",
    "    tot += 2*l*w + 2*w*h + 2*h*l\n",
    "    tot += min(l*w, w*h, h*l)"
   ]
  },
  {
   "cell_type": "code",
   "execution_count": 37,
   "metadata": {},
   "outputs": [],
   "source": [
    "tot = 0\n",
    "for l,w,h in dim:\n",
    "    l, w, h = int(l), int(w), int(h)\n",
    "    tot += l*w*h\n",
    "    tot += min(2*(l+w), 2*(w+h), 2*(h+l))"
   ]
  },
  {
   "cell_type": "code",
   "execution_count": 38,
   "metadata": {},
   "outputs": [
    {
     "data": {
      "text/plain": [
       "3783758"
      ]
     },
     "execution_count": 38,
     "metadata": {},
     "output_type": "execute_result"
    }
   ],
   "source": [
    "tot"
   ]
  },
  {
   "cell_type": "code",
   "execution_count": null,
   "metadata": {},
   "outputs": [],
   "source": []
  }
 ],
 "metadata": {
  "kernelspec": {
   "display_name": "Python 3",
   "language": "python",
   "name": "python3"
  },
  "language_info": {
   "codemirror_mode": {
    "name": "ipython",
    "version": 3
   },
   "file_extension": ".py",
   "mimetype": "text/x-python",
   "name": "python",
   "nbconvert_exporter": "python",
   "pygments_lexer": "ipython3",
   "version": "3.12.7"
  }
 },
 "nbformat": 4,
 "nbformat_minor": 2
}
