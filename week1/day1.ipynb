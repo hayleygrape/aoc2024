{
 "cells": [
  {
   "cell_type": "code",
   "execution_count": 1,
   "metadata": {},
   "outputs": [],
   "source": [
    "import pandas as pd\n",
    "import numpy as np"
   ]
  },
  {
   "cell_type": "code",
   "execution_count": null,
   "metadata": {},
   "outputs": [
    {
     "name": "stderr",
     "output_type": "stream",
     "text": [
      "/var/folders/pr/hdrd3ns53550b3_5b40nkn4c0000gn/T/ipykernel_6321/1355745748.py:1: ParserWarning: Falling back to the 'python' engine because the 'c' engine does not support regex separators (separators > 1 char and different from '\\s+' are interpreted as regex); you can avoid this warning by specifying engine='python'.\n",
      "  df = pd.read_csv(\"inputs/day1.txt\", delimiter=\"   \", header=None)\n"
     ]
    }
   ],
   "source": [
    "df = pd.read_csv(\"inputs/day1.txt\", delimiter=\"   \", header=None)\n",
    "l1, l2 = df[0].sort_values().reset_index(drop=True), df[1].sort_values().reset_index(drop=True)\n",
    "df = pd.concat([l1, l2], axis=1)\n",
    "(df[0] - df[1]).abs().sum()"
   ]
  },
  {
   "cell_type": "code",
   "execution_count": 43,
   "metadata": {},
   "outputs": [
    {
     "data": {
      "text/plain": [
       "np.int64(23228917)"
      ]
     },
     "execution_count": 43,
     "metadata": {},
     "output_type": "execute_result"
    }
   ],
   "source": [
    "l2_vcounts = df[1].value_counts()\n",
    "score = df[0].apply(lambda x: x*l2_vcounts.loc[x] if x in l2_vcounts.index else 0).sum()\n",
    "score "
   ]
  },
  {
   "cell_type": "markdown",
   "metadata": {},
   "source": []
  }
 ],
 "metadata": {
  "kernelspec": {
   "display_name": "Python 3",
   "language": "python",
   "name": "python3"
  },
  "language_info": {
   "codemirror_mode": {
    "name": "ipython",
    "version": 3
   },
   "file_extension": ".py",
   "mimetype": "text/x-python",
   "name": "python",
   "nbconvert_exporter": "python",
   "pygments_lexer": "ipython3",
   "version": "3.12.7"
  }
 },
 "nbformat": 4,
 "nbformat_minor": 2
}
