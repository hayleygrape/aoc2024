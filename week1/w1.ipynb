{
 "cells": [
  {
   "cell_type": "code",
   "execution_count": 194,
   "metadata": {},
   "outputs": [],
   "source": [
    "import pandas as pd\n",
    "import numpy as np\n",
    "import re"
   ]
  },
  {
   "cell_type": "markdown",
   "metadata": {},
   "source": [
    "### DAY 1"
   ]
  },
  {
   "cell_type": "code",
   "execution_count": null,
   "metadata": {},
   "outputs": [
    {
     "name": "stderr",
     "output_type": "stream",
     "text": [
      "/var/folders/pr/hdrd3ns53550b3_5b40nkn4c0000gn/T/ipykernel_6321/1355745748.py:1: ParserWarning: Falling back to the 'python' engine because the 'c' engine does not support regex separators (separators > 1 char and different from '\\s+' are interpreted as regex); you can avoid this warning by specifying engine='python'.\n",
      "  df = pd.read_csv(\"inputs/day1.txt\", delimiter=\"   \", header=None)\n"
     ]
    }
   ],
   "source": [
    "df = pd.read_csv(\"inputs/day1.txt\", delimiter=\"   \", header=None)\n",
    "l1, l2 = df[0].sort_values().reset_index(drop=True), df[1].sort_values().reset_index(drop=True)\n",
    "df = pd.concat([l1, l2], axis=1)\n",
    "(df[0] - df[1]).abs().sum()"
   ]
  },
  {
   "cell_type": "code",
   "execution_count": 43,
   "metadata": {},
   "outputs": [
    {
     "data": {
      "text/plain": [
       "np.int64(23228917)"
      ]
     },
     "execution_count": 43,
     "metadata": {},
     "output_type": "execute_result"
    }
   ],
   "source": [
    "l2_vcounts = df[1].value_counts()\n",
    "score = df[0].apply(lambda x: x*l2_vcounts.loc[x] if x in l2_vcounts.index else 0).sum()\n",
    "score "
   ]
  },
  {
   "cell_type": "markdown",
   "metadata": {},
   "source": [
    "### DAY 2"
   ]
  },
  {
   "cell_type": "code",
   "execution_count": 311,
   "metadata": {},
   "outputs": [
    {
     "data": {
      "text/plain": [
       "639"
      ]
     },
     "execution_count": 311,
     "metadata": {},
     "output_type": "execute_result"
    }
   ],
   "source": [
    "df = pd.read_csv(\"inputs/day2.txt\", delimiter=\" \", header=None)\n",
    "df = df.diff(axis=1)\n",
    "df = df[(df.abs().max(axis=1) <= 3) & (df.abs().min(axis=1) >= 1)]  # diff by at least 1-3\n",
    "df = df[df.apply(np.sign).sum(axis=1).abs() == df.count(axis=1).astype(float)]  # all inc or dec\n",
    "len(df)"
   ]
  },
  {
   "cell_type": "code",
   "execution_count": 387,
   "metadata": {},
   "outputs": [],
   "source": [
    "def check_conds(l):\n",
    "    l = list(l.dropna())\n",
    "    for i in range(len(l)):\n",
    "        a = l[:i] + l[i+1:]\n",
    "        if len(a)-np.abs(np.sum(np.sign(np.diff(a)))) == 1 and np.max(np.abs(np.diff(a))) <= 3 and np.min(np.abs(np.diff(a))) >= 1:\n",
    "            return pd.Series([True, i])\n",
    "    return pd.Series([False, -1])"
   ]
  },
  {
   "cell_type": "code",
   "execution_count": null,
   "metadata": {},
   "outputs": [],
   "source": [
    "df = pd.read_csv(\"inputs/day2.txt\", delimiter=\" \", header=None)\n",
    "df1 = df.apply(check_conds, axis=1)"
   ]
  },
  {
   "cell_type": "code",
   "execution_count": 393,
   "metadata": {},
   "outputs": [
    {
     "data": {
      "text/plain": [
       "np.int64(674)"
      ]
     },
     "execution_count": 393,
     "metadata": {},
     "output_type": "execute_result"
    }
   ],
   "source": [
    "df1[0].sum()"
   ]
  },
  {
   "cell_type": "markdown",
   "metadata": {},
   "source": [
    "### DAY 3"
   ]
  },
  {
   "cell_type": "code",
   "execution_count": 407,
   "metadata": {},
   "outputs": [],
   "source": [
    "text = open(\"inputs/day3.txt\").read()\n",
    "reg = r'mul\\((\\d{1,3}),(\\d{1,3})\\)'"
   ]
  },
  {
   "cell_type": "code",
   "execution_count": 408,
   "metadata": {},
   "outputs": [],
   "source": [
    "tot = 0\n",
    "for nums in re.findall(reg, text):\n",
    "    tot += int(nums[0])*int(nums[1])"
   ]
  },
  {
   "cell_type": "code",
   "execution_count": 460,
   "metadata": {},
   "outputs": [],
   "source": [
    "text = open(\"inputs/day3.txt\").read()\n",
    "reg1 = r'mul\\(\\d{1,3},\\d{1,3}\\)|do\\(\\)|don\\'t\\(\\)'\n",
    "reg2 = r'mul\\((\\d{1,3}),(\\d{1,3})\\)'\n",
    "matches = re.findall(reg1, text)"
   ]
  },
  {
   "cell_type": "code",
   "execution_count": 462,
   "metadata": {},
   "outputs": [],
   "source": [
    "last_inst = 'do()'\n",
    "tot = 0\n",
    "for inst in matches:\n",
    "    if inst == \"don't()\" or inst == \"do()\":\n",
    "        last_inst = inst\n",
    "        continue\n",
    "    if last_inst == \"do()\":\n",
    "        mul1, mul2 = re.fullmatch(reg2, inst).groups()\n",
    "        tot += int(mul1)*int(mul2)"
   ]
  },
  {
   "cell_type": "code",
   "execution_count": 463,
   "metadata": {},
   "outputs": [
    {
     "data": {
      "text/plain": [
       "94455185"
      ]
     },
     "execution_count": 463,
     "metadata": {},
     "output_type": "execute_result"
    }
   ],
   "source": [
    "tot"
   ]
  },
  {
   "cell_type": "markdown",
   "metadata": {},
   "source": [
    "### DAY 4"
   ]
  },
  {
   "cell_type": "code",
   "execution_count": 144,
   "metadata": {},
   "outputs": [],
   "source": [
    "f = open(\"inputs/day4.txt\").readlines()\n",
    "f = [x.replace(\"\\n\", \"\") for x in f]\n",
    "a = np.array([list(x) for x in f])"
   ]
  },
  {
   "cell_type": "code",
   "execution_count": 145,
   "metadata": {},
   "outputs": [],
   "source": [
    "tot_across = 0\n",
    "for x in f:\n",
    "    tot_across += len(re.findall('XMAS', x))\n",
    "    tot_across += len(re.findall('XMAS', x[::-1]))"
   ]
  },
  {
   "cell_type": "code",
   "execution_count": 146,
   "metadata": {},
   "outputs": [],
   "source": [
    "tot_diag = 0\n",
    "a = np.array(a)\n",
    "diag = []\n",
    "row, col = a.shape\n",
    "for i in range(-row+1, col):\n",
    "    tot_diag += len(re.findall('XMAS', \"\".join(a.diagonal(i))))\n",
    "    tot_diag += len(re.findall('XMAS', \"\".join(a.diagonal(i))[::-1]))"
   ]
  },
  {
   "cell_type": "code",
   "execution_count": 147,
   "metadata": {},
   "outputs": [],
   "source": [
    "c = np.array(a).T\n",
    "tot_h = 0\n",
    "for x in c:\n",
    "    tot_h += len(re.findall('XMAS', \"\".join(x)))\n",
    "    tot_h += len(re.findall('XMAS', \"\".join(x)[::-1]))"
   ]
  },
  {
   "cell_type": "code",
   "execution_count": 148,
   "metadata": {},
   "outputs": [],
   "source": [
    "tot_diag_r = 0\n",
    "row, col = a.shape\n",
    "for i in range(-row+1, col):\n",
    "    tot_diag_r += len(re.findall('XMAS', \"\".join(np.fliplr(a).diagonal(i))))\n",
    "    tot_diag_r += len(re.findall('XMAS', \"\".join(np.fliplr(a).diagonal(i)[::-1])))"
   ]
  },
  {
   "cell_type": "code",
   "execution_count": 149,
   "metadata": {},
   "outputs": [
    {
     "data": {
      "text/plain": [
       "2644"
      ]
     },
     "execution_count": 149,
     "metadata": {},
     "output_type": "execute_result"
    }
   ],
   "source": [
    "tot_across + tot_diag + tot_diag_r + tot_h"
   ]
  },
  {
   "cell_type": "code",
   "execution_count": 202,
   "metadata": {},
   "outputs": [],
   "source": [
    "f = open(\"inputs/day4.txt\").readlines()\n",
    "f = [x.replace(\"\\n\", \"\") for x in f]\n",
    "a = np.array([list(x) for x in f])"
   ]
  },
  {
   "cell_type": "code",
   "execution_count": 203,
   "metadata": {},
   "outputs": [],
   "source": [
    "len_r, len_c = a.shape\n",
    "tot, res = 0, np.array(['M', 'A', 'S'])\n",
    "for r in range(len_r-3+1):\n",
    "    for c in range(len_c-3+1):\n",
    "        s = a[r:r+3,c:c+3]\n",
    "        if ((s.diagonal() == res).all() or (s.diagonal()[::-1] == res).all()) and ((np.fliplr(s).diagonal() == res).all() or (np.fliplr(s).diagonal()[::-1] == res).all()):\n",
    "            tot += 1"
   ]
  },
  {
   "cell_type": "code",
   "execution_count": 204,
   "metadata": {},
   "outputs": [
    {
     "data": {
      "text/plain": [
       "1952"
      ]
     },
     "execution_count": 204,
     "metadata": {},
     "output_type": "execute_result"
    }
   ],
   "source": [
    "tot"
   ]
  },
  {
   "cell_type": "markdown",
   "metadata": {},
   "source": [
    "### DAY 5"
   ]
  },
  {
   "cell_type": "code",
   "execution_count": 4,
   "metadata": {},
   "outputs": [],
   "source": [
    "import networkx as nx"
   ]
  },
  {
   "cell_type": "code",
   "execution_count": 8,
   "metadata": {},
   "outputs": [],
   "source": [
    "adj_list, path = open(\"inputs/day5.txt\").read().split(\"\\n\\n\")\n",
    "adj_list = [x.split(\"|\") for x in adj_list.split()]\n",
    "path = [x.split(\",\") for x in path.split()]"
   ]
  },
  {
   "cell_type": "code",
   "execution_count": 9,
   "metadata": {},
   "outputs": [],
   "source": [
    "g = nx.DiGraph()\n",
    "g.add_edges_from(adj_list)"
   ]
  },
  {
   "cell_type": "code",
   "execution_count": 17,
   "metadata": {},
   "outputs": [],
   "source": [
    "tot = 0\n",
    "incorrect = []\n",
    "for i in range(len(path)):\n",
    "    if nx.is_path(g, path[i]):\n",
    "        mid = len(path[i]) // 2\n",
    "        tot += int(path[i][mid])\n",
    "    else:\n",
    "        incorrect.append(i)"
   ]
  },
  {
   "cell_type": "code",
   "execution_count": 18,
   "metadata": {},
   "outputs": [
    {
     "data": {
      "text/plain": [
       "[1,\n",
       " 2,\n",
       " 3,\n",
       " 4,\n",
       " 5,\n",
       " 6,\n",
       " 7,\n",
       " 9,\n",
       " 12,\n",
       " 14,\n",
       " 15,\n",
       " 19,\n",
       " 20,\n",
       " 24,\n",
       " 28,\n",
       " 29,\n",
       " 33,\n",
       " 34,\n",
       " 35,\n",
       " 37,\n",
       " 39,\n",
       " 40,\n",
       " 42,\n",
       " 45,\n",
       " 49,\n",
       " 50,\n",
       " 54,\n",
       " 58,\n",
       " 59,\n",
       " 60,\n",
       " 61,\n",
       " 64,\n",
       " 65,\n",
       " 66,\n",
       " 69,\n",
       " 73,\n",
       " 76,\n",
       " 78,\n",
       " 81,\n",
       " 83,\n",
       " 84,\n",
       " 85,\n",
       " 86,\n",
       " 89,\n",
       " 90,\n",
       " 91,\n",
       " 93,\n",
       " 94,\n",
       " 95,\n",
       " 96,\n",
       " 99,\n",
       " 103,\n",
       " 104,\n",
       " 106,\n",
       " 108,\n",
       " 109,\n",
       " 110,\n",
       " 111,\n",
       " 112,\n",
       " 114,\n",
       " 117,\n",
       " 118,\n",
       " 119,\n",
       " 120,\n",
       " 121,\n",
       " 128,\n",
       " 129,\n",
       " 131,\n",
       " 132,\n",
       " 133,\n",
       " 134,\n",
       " 136,\n",
       " 137,\n",
       " 138,\n",
       " 139,\n",
       " 140,\n",
       " 141,\n",
       " 142,\n",
       " 144,\n",
       " 145,\n",
       " 146,\n",
       " 149,\n",
       " 151,\n",
       " 152,\n",
       " 153,\n",
       " 154,\n",
       " 155,\n",
       " 156,\n",
       " 157,\n",
       " 160,\n",
       " 163,\n",
       " 164,\n",
       " 166,\n",
       " 168,\n",
       " 171,\n",
       " 173,\n",
       " 175,\n",
       " 176,\n",
       " 177,\n",
       " 183,\n",
       " 185,\n",
       " 188,\n",
       " 189]"
      ]
     },
     "execution_count": 18,
     "metadata": {},
     "output_type": "execute_result"
    }
   ],
   "source": [
    "incorrect"
   ]
  },
  {
   "cell_type": "code",
   "execution_count": 34,
   "metadata": {},
   "outputs": [],
   "source": [
    "tot = 0\n",
    "for num in incorrect:\n",
    "    sub = nx.induced_subgraph(g, path[num])\n",
    "    order = list(nx.topological_sort(sub))\n",
    "    mid = len(order) // 2\n",
    "    tot += int(order[mid])"
   ]
  },
  {
   "cell_type": "code",
   "execution_count": 51,
   "metadata": {},
   "outputs": [],
   "source": [
    "tot = 0\n",
    "for num in incorrect:\n",
    "    sub = nx.induced_subgraph(g, path[num])\n",
    "    if nx.is_directed_acyclic_graph(sub) == False:\n",
    "        print(num)"
   ]
  },
  {
   "cell_type": "markdown",
   "metadata": {},
   "source": [
    "### DAY 6"
   ]
  },
  {
   "cell_type": "code",
   "execution_count": 282,
   "metadata": {},
   "outputs": [],
   "source": [
    "f = open(\"inputs/day6_test.txt\").read().split(\"\\n\")\n",
    "f = [list(x) for x in f]"
   ]
  },
  {
   "cell_type": "code",
   "execution_count": 283,
   "metadata": {},
   "outputs": [],
   "source": [
    "pos, sym = None, \"\"\n",
    "for i in range(len(f)):\n",
    "    for j in range(len(f[i])):\n",
    "        if f[i][j] in ['^', '>', 'v', '<']:\n",
    "            sym += f[i][j]\n",
    "            pos = (i,j)\n",
    "            break\n",
    "    if pos != None:\n",
    "        break"
   ]
  },
  {
   "cell_type": "code",
   "execution_count": 284,
   "metadata": {},
   "outputs": [],
   "source": [
    "def move(row, col, sym):\n",
    "    if sym == '^':\n",
    "        row-=1\n",
    "    elif sym == '>':\n",
    "        col+=1\n",
    "    elif sym == '<':\n",
    "        col-=1\n",
    "    elif sym == 'v':\n",
    "        row+=1\n",
    "    return (row,col)"
   ]
  },
  {
   "cell_type": "code",
   "execution_count": 285,
   "metadata": {},
   "outputs": [],
   "source": [
    "def check_bounds(f, row, col):\n",
    "    return True if row >= 0 and col >= 0 and row < len(f) and col < len(f) else False"
   ]
  },
  {
   "cell_type": "code",
   "execution_count": 286,
   "metadata": {},
   "outputs": [],
   "source": [
    "row,col = pos\n",
    "next_row, next_col = 0,0\n",
    "curr_sym = sym\n",
    "visited_locs = [(row,col)]\n",
    "turn_locs = [(row, col)]\n",
    "next_sym = {'^': '>','>': 'v','v': '<','<': '^'}\n",
    "while row != 0 and col != 0 and row != len(f) and col != len(f):\n",
    "    next_row, next_col = move(row,col, curr_sym)\n",
    "    if check_bounds(f, next_row, next_col) and f[next_row][next_col] == \"#\":\n",
    "        curr_sym = next_sym[curr_sym]\n",
    "        turn_locs.append((row, col))\n",
    "    else:\n",
    "        row,col = next_row, next_col\n",
    "        # visited_locs.add((row,col))\n",
    "        visited_locs.append((row,col))"
   ]
  },
  {
   "cell_type": "code",
   "execution_count": 294,
   "metadata": {},
   "outputs": [],
   "source": [
    "def get_diffs(turn_locs):\n",
    "    diffs = []\n",
    "    for i in range(len(turn_locs)-1):\n",
    "        diffx, diffy = turn_locs[i][0]-turn_locs[i+1][0], turn_locs[i][1]-turn_locs[i+1][1]\n",
    "        diffs.append((diffx, diffy))\n",
    "    return diffs"
   ]
  },
  {
   "cell_type": "code",
   "execution_count": 295,
   "metadata": {},
   "outputs": [],
   "source": [
    "diffs = get_diffs(turn_locs)"
   ]
  },
  {
   "cell_type": "code",
   "execution_count": 296,
   "metadata": {},
   "outputs": [
    {
     "data": {
      "text/plain": [
       "[(5, 0),\n",
       " (0, -4),\n",
       " (-5, 0),\n",
       " (0, 6),\n",
       " (2, 0),\n",
       " (0, -4),\n",
       " (-4, 0),\n",
       " (0, 5),\n",
       " (1, 0),\n",
       " (0, -6)]"
      ]
     },
     "execution_count": 296,
     "metadata": {},
     "output_type": "execute_result"
    }
   ],
   "source": [
    "diffs"
   ]
  },
  {
   "cell_type": "code",
   "execution_count": 298,
   "metadata": {},
   "outputs": [
    {
     "data": {
      "text/plain": [
       "[(6, 4),\n",
       " (1, 4),\n",
       " (1, 8),\n",
       " (6, 8),\n",
       " (6, 2),\n",
       " (4, 2),\n",
       " (4, 6),\n",
       " (8, 6),\n",
       " (8, 1),\n",
       " (7, 1),\n",
       " (7, 7)]"
      ]
     },
     "execution_count": 298,
     "metadata": {},
     "output_type": "execute_result"
    }
   ],
   "source": [
    "turn_locs"
   ]
  },
  {
   "cell_type": "code",
   "execution_count": null,
   "metadata": {},
   "outputs": [],
   "source": [
    "row,col = pos\n",
    "next_row, next_col = 0,0\n",
    "curr_sym = sym\n",
    "visited_locs = [(row,col)]\n",
    "next_sym = {'^': '>','>': 'v','v': '<','<': '^'}\n",
    "curr_len = 0\n",
    "last_three_lens = []\n",
    "while row != 0 and col != 0 and row != len(f) and col != len(f):\n",
    "    next_row, next_col = move(row,col, curr_sym)\n",
    "    if check_bounds(f, next_row, next_col) and f[next_row][next_col] == \"#\":  # switch here\n",
    "        curr_sym = next_sym[curr_sym]\n",
    "        last_three_lens.append(curr_len)\n",
    "        curr_len = 0\n",
    "    else:\n",
    "        row,col = next_row, next_col\n",
    "        # visited_locs.add((row,col))\n",
    "        visited_locs.append((row,col))\n",
    "        curr_len += 1"
   ]
  },
  {
   "cell_type": "code",
   "execution_count": 192,
   "metadata": {},
   "outputs": [
    {
     "data": {
      "text/plain": [
       "10"
      ]
     },
     "execution_count": 192,
     "metadata": {},
     "output_type": "execute_result"
    }
   ],
   "source": [
    "len(last_three_lens)"
   ]
  },
  {
   "cell_type": "code",
   "execution_count": 193,
   "metadata": {},
   "outputs": [
    {
     "data": {
      "text/plain": [
       "[5, 4, 5, 6, 2, 4, 4, 5, 1, 6]"
      ]
     },
     "execution_count": 193,
     "metadata": {},
     "output_type": "execute_result"
    }
   ],
   "source": [
    "last_three_lens"
   ]
  },
  {
   "cell_type": "code",
   "execution_count": 279,
   "metadata": {},
   "outputs": [
    {
     "data": {
      "text/plain": [
       "[(6, 4),\n",
       " (5, 4),\n",
       " (4, 4),\n",
       " (3, 4),\n",
       " (2, 4),\n",
       " (1, 4),\n",
       " (1, 5),\n",
       " (1, 6),\n",
       " (1, 7),\n",
       " (1, 8),\n",
       " (2, 8),\n",
       " (3, 8),\n",
       " (4, 8),\n",
       " (5, 8),\n",
       " (6, 8),\n",
       " (6, 7),\n",
       " (6, 6),\n",
       " (6, 5),\n",
       " (6, 4),\n",
       " (6, 3),\n",
       " (6, 2),\n",
       " (5, 2),\n",
       " (4, 2),\n",
       " (4, 3),\n",
       " (4, 4),\n",
       " (4, 5),\n",
       " (4, 6),\n",
       " (5, 6),\n",
       " (6, 6),\n",
       " (7, 6),\n",
       " (8, 6),\n",
       " (8, 5),\n",
       " (8, 4),\n",
       " (8, 3),\n",
       " (8, 2),\n",
       " (8, 1),\n",
       " (7, 1),\n",
       " (7, 2),\n",
       " (7, 3),\n",
       " (7, 4),\n",
       " (7, 5),\n",
       " (7, 6),\n",
       " (7, 7),\n",
       " (8, 7),\n",
       " (9, 7),\n",
       " (10, 7)]"
      ]
     },
     "execution_count": 279,
     "metadata": {},
     "output_type": "execute_result"
    }
   ],
   "source": [
    "visited_locs"
   ]
  },
  {
   "cell_type": "code",
   "execution_count": 278,
   "metadata": {},
   "outputs": [
    {
     "name": "stdout",
     "output_type": "stream",
     "text": [
      "5\n",
      "6\n"
     ]
    }
   ],
   "source": [
    "count = 0\n",
    "for i in range(len(last_three_lens)-4):\n",
    "    if last_three_lens[i+2] <= last_three_lens[i] and last_three_lens[i+3] >= last_three_lens[i+1]:\n",
    "        print(last_three_lens[i])\n",
    "        count += 1"
   ]
  },
  {
   "cell_type": "code",
   "execution_count": 277,
   "metadata": {},
   "outputs": [
    {
     "data": {
      "text/plain": [
       "2"
      ]
     },
     "execution_count": 277,
     "metadata": {},
     "output_type": "execute_result"
    }
   ],
   "source": [
    "count"
   ]
  },
  {
   "cell_type": "markdown",
   "metadata": {},
   "source": [
    "### DAY 7"
   ]
  },
  {
   "cell_type": "code",
   "execution_count": 261,
   "metadata": {},
   "outputs": [],
   "source": [
    "from itertools import product"
   ]
  },
  {
   "cell_type": "code",
   "execution_count": 262,
   "metadata": {},
   "outputs": [],
   "source": [
    "f = open(\"inputs/day7.txt\").read().split(\"\\n\")"
   ]
  },
  {
   "cell_type": "code",
   "execution_count": 263,
   "metadata": {},
   "outputs": [],
   "source": [
    "def solve(nums, target):\n",
    "    for ops in list(product(\"*+\", repeat=len(nums)-1)):\n",
    "        if apply_ops(nums, ops) == target:\n",
    "            return True\n",
    "    return False"
   ]
  },
  {
   "cell_type": "code",
   "execution_count": 264,
   "metadata": {},
   "outputs": [],
   "source": [
    "def apply_ops(nums, ops):\n",
    "    tot = nums[0]\n",
    "    for i in range(1, len(nums)):\n",
    "        tot = tot+nums[i] if ops[i-1]==\"+\" else tot*nums[i]\n",
    "    return tot"
   ]
  },
  {
   "cell_type": "code",
   "execution_count": 265,
   "metadata": {},
   "outputs": [],
   "source": [
    "count = 0\n",
    "for line in f:\n",
    "    l = line.split()\n",
    "    l[0] = l[0].replace(\":\", \"\")\n",
    "    l = [int(x) for x in l]\n",
    "    if solve(l[1:], l[0]):\n",
    "        count += l[0]"
   ]
  },
  {
   "cell_type": "code",
   "execution_count": 270,
   "metadata": {},
   "outputs": [],
   "source": [
    "def apply_ops(nums, ops):\n",
    "    tot = nums[0]\n",
    "    for i in range(1, len(nums)):\n",
    "        if ops[i-1] == \"+\":\n",
    "            tot += nums[i]\n",
    "        elif ops[i-1]==\"|\":\n",
    "            tot = int(str(tot)+str(nums[i]))\n",
    "        else:\n",
    "            tot *= nums[i]\n",
    "    return tot"
   ]
  },
  {
   "cell_type": "code",
   "execution_count": 271,
   "metadata": {},
   "outputs": [],
   "source": [
    "def solve(nums, target):\n",
    "    for ops in list(product(\"*+|\", repeat=len(nums)-1)):\n",
    "        if apply_ops(nums, ops) == target:\n",
    "            return True\n",
    "    return False"
   ]
  },
  {
   "cell_type": "code",
   "execution_count": 272,
   "metadata": {},
   "outputs": [],
   "source": [
    "count = 0\n",
    "for line in f:\n",
    "    l = line.split()\n",
    "    l[0] = l[0].replace(\":\", \"\")\n",
    "    l = [int(x) for x in l]\n",
    "    if solve(l[1:], l[0]):\n",
    "        count += l[0]"
   ]
  },
  {
   "cell_type": "code",
   "execution_count": 273,
   "metadata": {},
   "outputs": [
    {
     "data": {
      "text/plain": [
       "20928985450275"
      ]
     },
     "execution_count": 273,
     "metadata": {},
     "output_type": "execute_result"
    }
   ],
   "source": [
    "count"
   ]
  },
  {
   "cell_type": "code",
   "execution_count": null,
   "metadata": {},
   "outputs": [],
   "source": []
  }
 ],
 "metadata": {
  "kernelspec": {
   "display_name": "Python 3",
   "language": "python",
   "name": "python3"
  },
  "language_info": {
   "codemirror_mode": {
    "name": "ipython",
    "version": 3
   },
   "file_extension": ".py",
   "mimetype": "text/x-python",
   "name": "python",
   "nbconvert_exporter": "python",
   "pygments_lexer": "ipython3",
   "version": "3.12.7"
  }
 },
 "nbformat": 4,
 "nbformat_minor": 2
}
