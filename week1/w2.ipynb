{
 "cells": [
  {
   "cell_type": "code",
   "execution_count": 66,
   "metadata": {},
   "outputs": [],
   "source": [
    "import pandas as pd\n",
    "import numpy as np\n",
    "import re\n",
    "from itertools import combinations"
   ]
  },
  {
   "cell_type": "markdown",
   "metadata": {},
   "source": [
    "### DAY 8"
   ]
  },
  {
   "cell_type": "code",
   "execution_count": 257,
   "metadata": {},
   "outputs": [],
   "source": [
    "f = open(\"inputs/day8_test.txt\").read().split(\"\\n\")  # flip to be pos y"
   ]
  },
  {
   "cell_type": "code",
   "execution_count": 258,
   "metadata": {},
   "outputs": [],
   "source": [
    "# get antenna locs\n",
    "ant_locs = {}\n",
    "for row in range(len(f)):\n",
    "    for match in re.finditer(r'[a-zA-Z0-9]', f[row]):\n",
    "        col = match.span()[0]\n",
    "        char = f[row][col] \n",
    "        if char not in ant_locs:\n",
    "            ant_locs[char] = []\n",
    "        ant_locs[char].append((row,col))"
   ]
  },
  {
   "cell_type": "code",
   "execution_count": 259,
   "metadata": {},
   "outputs": [],
   "source": [
    "def get_antinode_locs(cord1, cord2):\n",
    "    rise, run = cord2[0]-cord1[0], cord2[1]-cord1[1]\n",
    "    loc1 = (cord1[0]-rise, cord1[1]-run)\n",
    "    loc2 = (cord2[0]+rise, cord2[1]+run)\n",
    "    return loc1,loc2"
   ]
  },
  {
   "cell_type": "code",
   "execution_count": 260,
   "metadata": {},
   "outputs": [],
   "source": [
    "def get_antinode_locs(cord1, cord2):\n",
    "    rise, run = cord1[0]-cord2[0], cord1[1]-cord2[1]\n",
    "    antinode1 = (cord1[0]+rise, cord1[1]+run)\n",
    "    antinode2 = (cord2[0]-rise, cord2[1]-run)\n",
    "    return antinode1, antinode2"
   ]
  },
  {
   "cell_type": "code",
   "execution_count": 261,
   "metadata": {},
   "outputs": [],
   "source": [
    "def is_valid_cord(cord, row_len, col_len):  # written in (y,x)\n",
    "    if cord[0] >= row_len or cord[0] < 0 or cord[1] >= col_len or cord[1] < 0:\n",
    "        return False\n",
    "    return True"
   ]
  },
  {
   "cell_type": "code",
   "execution_count": 262,
   "metadata": {},
   "outputs": [],
   "source": [
    "antinode_locs = set()\n",
    "for k,v in ant_locs.items():\n",
    "    for cord1, cord2 in list(combinations(ant_locs[k], 2)):\n",
    "        loc1, loc2 = get_antinode_locs(cord1, cord2)\n",
    "        antinode_locs.add(loc1)\n",
    "        antinode_locs.add(loc2)"
   ]
  },
  {
   "cell_type": "code",
   "execution_count": null,
   "metadata": {},
   "outputs": [],
   "source": []
  },
  {
   "cell_type": "code",
   "execution_count": 264,
   "metadata": {},
   "outputs": [
    {
     "data": {
      "text/plain": [
       "{(-2, 12),\n",
       " (-1, 9),\n",
       " (0, 6),\n",
       " (0, 11),\n",
       " (1, 3),\n",
       " (2, 4),\n",
       " (2, 10),\n",
       " (3, 2),\n",
       " (4, 9),\n",
       " (5, 1),\n",
       " (5, 6),\n",
       " (6, 3),\n",
       " (7, 0),\n",
       " (7, 7),\n",
       " (10, 10),\n",
       " (11, 10),\n",
       " (13, 12)}"
      ]
     },
     "execution_count": 264,
     "metadata": {},
     "output_type": "execute_result"
    }
   ],
   "source": [
    "antinode_locs"
   ]
  },
  {
   "cell_type": "code",
   "execution_count": 226,
   "metadata": {},
   "outputs": [],
   "source": [
    "tot_valid = 0\n",
    "for val in antinode_locs:\n",
    "    if is_valid_cord(val, len(f), len(f[0])):\n",
    "        tot_valid += 1"
   ]
  },
  {
   "cell_type": "code",
   "execution_count": 227,
   "metadata": {},
   "outputs": [
    {
     "data": {
      "text/plain": [
       "327"
      ]
     },
     "execution_count": 227,
     "metadata": {},
     "output_type": "execute_result"
    }
   ],
   "source": [
    "tot_valid"
   ]
  },
  {
   "cell_type": "code",
   "execution_count": 228,
   "metadata": {},
   "outputs": [],
   "source": [
    "def get_all_antinode_locs(cord1, cord2, f):\n",
    "    m = (cord1[0]-cord2[0])/(cord1[1]-cord2[1])\n",
    "    b = cord1[0]-(m*cord1[1])\n",
    "    locs = []\n",
    "    for x in range(len(f[0])):\n",
    "        y = (x*m)+b \n",
    "        if y % 1 == 0 and is_valid_cord((y,x), len(f), len(f[0])):\n",
    "            locs.append((y,x))\n",
    "    return locs"
   ]
  },
  {
   "cell_type": "code",
   "execution_count": 229,
   "metadata": {},
   "outputs": [],
   "source": [
    "antinode_locs = set()\n",
    "for k,v in ant_locs.items():\n",
    "    for cord1, cord2 in list(combinations(ant_locs[k], 2)):\n",
    "        locs = get_all_antinode_locs(cord1, cord2, f)\n",
    "        for loc in locs:\n",
    "            antinode_locs.add(loc)"
   ]
  },
  {
   "cell_type": "code",
   "execution_count": 230,
   "metadata": {},
   "outputs": [
    {
     "data": {
      "text/plain": [
       "1189"
      ]
     },
     "execution_count": 230,
     "metadata": {},
     "output_type": "execute_result"
    }
   ],
   "source": [
    "len(antinode_locs)"
   ]
  },
  {
   "cell_type": "code",
   "execution_count": null,
   "metadata": {},
   "outputs": [],
   "source": [
    "1189 is wrong"
   ]
  }
 ],
 "metadata": {
  "kernelspec": {
   "display_name": "Python 3",
   "language": "python",
   "name": "python3"
  },
  "language_info": {
   "codemirror_mode": {
    "name": "ipython",
    "version": 3
   },
   "file_extension": ".py",
   "mimetype": "text/x-python",
   "name": "python",
   "nbconvert_exporter": "python",
   "pygments_lexer": "ipython3",
   "version": "3.12.7"
  }
 },
 "nbformat": 4,
 "nbformat_minor": 2
}
